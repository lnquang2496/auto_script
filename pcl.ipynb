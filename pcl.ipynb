{
 "cells": [
  {
   "cell_type": "code",
   "execution_count": null,
   "metadata": {
    "scrolled": true
   },
   "outputs": [],
   "source": [
    "import myproject as lib\n",
    "ws = lib.load_worksheet('test.xlsx', 'Sheet1')\n",
    "coor = lib.find_cell(ws, 'No')\n",
    "first_row_of_tc, last_row_of_tc = lib.row_of_testcase(ws, 'No')\n",
    "print(first_row_of_tc)\n",
    "print(last_row_of_tc)"
   ]
  },
  {
   "cell_type": "code",
   "execution_count": 3,
   "metadata": {
    "scrolled": false
   },
   "outputs": [],
   "source": [
    "import myproject as lib\n",
    "path = \"./\"\n",
    "filename = \"myfile.c\"\n",
    "line1 = \"\\tIF_INSTANCE(\\\"1_1\\\") {\\n\"\n",
    "line2 = \"\\t\\treturn 100;\\n\"\n",
    "line3 = \"\\t}\\n\"\n",
    "data = str(\"\\tprint(\\\"Another Hello world2\\\");\\n\")\n",
    "position = \"return\"\n",
    "lib.file_write(path, filename, line1 + line2 + line3, position) "
   ]
  }
 ],
 "metadata": {
  "kernelspec": {
   "display_name": "Python 3",
   "language": "python",
   "name": "python3"
  },
  "language_info": {
   "codemirror_mode": {
    "name": "ipython",
    "version": 3
   },
   "file_extension": ".py",
   "mimetype": "text/x-python",
   "name": "python",
   "nbconvert_exporter": "python",
   "pygments_lexer": "ipython3",
   "version": "3.7.3"
  }
 },
 "nbformat": 4,
 "nbformat_minor": 2
}
